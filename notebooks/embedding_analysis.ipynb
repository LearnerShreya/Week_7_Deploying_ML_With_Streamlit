{
 "cells": [
  {
   "cell_type": "markdown",
   "id": "19c14916",
   "metadata": {},
   "source": [
    "# Embedding Analysis for Resumes"
   ]
  },
  {
   "cell_type": "markdown",
   "id": "fb68b272",
   "metadata": {},
   "source": [
    "## 1. Setup & Imports"
   ]
  },
  {
   "cell_type": "code",
   "execution_count": 1,
   "id": "f5d21317",
   "metadata": {},
   "outputs": [],
   "source": [
    "\n",
    "import os\n",
    "import pandas as pd\n",
    "import numpy as np\n",
    "import matplotlib.pyplot as plt\n",
    "import seaborn as sns\n",
    "\n",
    "from sklearn.feature_extraction.text import TfidfVectorizer\n",
    "from sklearn.decomposition import PCA\n",
    "from sklearn.manifold import TSNE\n",
    "from sklearn.cluster import KMeans\n",
    "\n",
    "import plotly.express as px"
   ]
  },
  {
   "cell_type": "markdown",
   "id": "3c5c0633",
   "metadata": {},
   "source": [
    "## 2. Load Resume Dataset"
   ]
  },
  {
   "cell_type": "code",
   "execution_count": 2,
   "id": "132bf9e2",
   "metadata": {},
   "outputs": [
    {
     "name": "stdout",
     "output_type": "stream",
     "text": [
      "Total resumes loaded: 962\n"
     ]
    },
    {
     "data": {
      "text/html": [
       "<div>\n",
       "<style scoped>\n",
       "    .dataframe tbody tr th:only-of-type {\n",
       "        vertical-align: middle;\n",
       "    }\n",
       "\n",
       "    .dataframe tbody tr th {\n",
       "        vertical-align: top;\n",
       "    }\n",
       "\n",
       "    .dataframe thead th {\n",
       "        text-align: right;\n",
       "    }\n",
       "</style>\n",
       "<table border=\"1\" class=\"dataframe\">\n",
       "  <thead>\n",
       "    <tr style=\"text-align: right;\">\n",
       "      <th></th>\n",
       "      <th>Category</th>\n",
       "      <th>Resume</th>\n",
       "    </tr>\n",
       "  </thead>\n",
       "  <tbody>\n",
       "    <tr>\n",
       "      <th>0</th>\n",
       "      <td>Data Science</td>\n",
       "      <td>Skills * Programming Languages: Python (pandas...</td>\n",
       "    </tr>\n",
       "    <tr>\n",
       "      <th>1</th>\n",
       "      <td>Data Science</td>\n",
       "      <td>Education Details \\r\\nMay 2013 to May 2017 B.E...</td>\n",
       "    </tr>\n",
       "    <tr>\n",
       "      <th>2</th>\n",
       "      <td>Data Science</td>\n",
       "      <td>Areas of Interest Deep Learning, Control Syste...</td>\n",
       "    </tr>\n",
       "    <tr>\n",
       "      <th>3</th>\n",
       "      <td>Data Science</td>\n",
       "      <td>Skills â¢ R â¢ Python â¢ SAP HANA â¢ Table...</td>\n",
       "    </tr>\n",
       "    <tr>\n",
       "      <th>4</th>\n",
       "      <td>Data Science</td>\n",
       "      <td>Education Details \\r\\n MCA   YMCAUST,  Faridab...</td>\n",
       "    </tr>\n",
       "  </tbody>\n",
       "</table>\n",
       "</div>"
      ],
      "text/plain": [
       "       Category                                             Resume\n",
       "0  Data Science  Skills * Programming Languages: Python (pandas...\n",
       "1  Data Science  Education Details \\r\\nMay 2013 to May 2017 B.E...\n",
       "2  Data Science  Areas of Interest Deep Learning, Control Syste...\n",
       "3  Data Science  Skills â¢ R â¢ Python â¢ SAP HANA â¢ Table...\n",
       "4  Data Science  Education Details \\r\\n MCA   YMCAUST,  Faridab..."
      ]
     },
     "execution_count": 2,
     "metadata": {},
     "output_type": "execute_result"
    }
   ],
   "source": [
    "data_path = \"../data/UpdatedResumeDataSet.csv\"\n",
    "df = pd.read_csv(data_path)\n",
    "\n",
    "st_col = \"text\" if \"text\" in df.columns else df.columns[0]  # fallback\n",
    "df = df.dropna(subset=[st_col])\n",
    "\n",
    "print(\"Total resumes loaded:\", len(df))\n",
    "df.head()"
   ]
  },
  {
   "cell_type": "markdown",
   "id": "c87ac63b",
   "metadata": {},
   "source": [
    "## 3. Vectorize Resume Text (TF-IDF)"
   ]
  },
  {
   "cell_type": "code",
   "execution_count": 3,
   "id": "c1b1fbf8",
   "metadata": {},
   "outputs": [
    {
     "name": "stdout",
     "output_type": "stream",
     "text": [
      "TF-IDF Embedding shape: (962, 34)\n"
     ]
    }
   ],
   "source": [
    "vectorizer = TfidfVectorizer(max_features=1000, stop_words='english')\n",
    "X = vectorizer.fit_transform(df[st_col]).toarray()\n",
    "\n",
    "print(\"TF-IDF Embedding shape:\", X.shape)"
   ]
  },
  {
   "cell_type": "markdown",
   "id": "1029f1f1",
   "metadata": {},
   "source": [
    "## 4. Dimensionality Reduction"
   ]
  },
  {
   "cell_type": "code",
   "execution_count": 4,
   "id": "2dd3415c",
   "metadata": {},
   "outputs": [],
   "source": [
    "# PCA or TSNE for 2D visualization\n",
    "reducer = TSNE(n_components=2, random_state=42, perplexity=30)\n",
    "X_embedded = reducer.fit_transform(X)"
   ]
  },
  {
   "cell_type": "markdown",
   "id": "7f46dea3",
   "metadata": {},
   "source": [
    "## 5. Clustering (KMeans)"
   ]
  },
  {
   "cell_type": "code",
   "execution_count": 5,
   "id": "646aa61a",
   "metadata": {},
   "outputs": [],
   "source": [
    "k = 5  # Number of clusters (can tune)\n",
    "kmeans = KMeans(n_clusters=k, random_state=42)\n",
    "clusters = kmeans.fit_predict(X)\n",
    "\n",
    "df['cluster'] = clusters\n",
    "df['x'] = X_embedded[:, 0]\n",
    "df['y'] = X_embedded[:, 1]"
   ]
  },
  {
   "cell_type": "markdown",
   "id": "97b4486c",
   "metadata": {},
   "source": [
    "## 6. Visualize Clusters"
   ]
  },
  {
   "cell_type": "code",
   "execution_count": 6,
   "id": "4982af46",
   "metadata": {},
   "outputs": [
    {
     "data": {
      "application/vnd.plotly.v1+json": {
       "config": {
        "plotlyServerURL": "https://plot.ly"
       },
       "data": [
        {
         "customdata": [
          [
           "Data Science"
          ],
          [
           "Data Science"
          ],
          [
           "Data Science"
          ],
          [
           "Data Science"
          ],
          [
           "Data Science"
          ],
          [
           "Data Science"
          ],
          [
           "Data Science"
          ],
          [
           "Data Science"
          ],
          [
           "Data Science"
          ],
          [
           "Data Science"
          ],
          [
           "Data Science"
          ],
          [
           "Data Science"
          ],
          [
           "Data Science"
          ],
          [
           "Data Science"
          ],
          [
           "Data Science"
          ],
          [
           "Data Science"
          ],
          [
           "Data Science"
          ],
          [
           "Data Science"
          ],
          [
           "Data Science"
          ],
          [
           "Data Science"
          ],
          [
           "Data Science"
          ],
          [
           "Data Science"
          ],
          [
           "Data Science"
          ],
          [
           "Data Science"
          ],
          [
           "Data Science"
          ],
          [
           "Data Science"
          ],
          [
           "Data Science"
          ],
          [
           "Data Science"
          ],
          [
           "Data Science"
          ],
          [
           "Data Science"
          ],
          [
           "Data Science"
          ],
          [
           "Data Science"
          ],
          [
           "Data Science"
          ],
          [
           "Data Science"
          ],
          [
           "Data Science"
          ],
          [
           "Data Science"
          ],
          [
           "Data Science"
          ],
          [
           "Data Science"
          ],
          [
           "Data Science"
          ],
          [
           "Data Science"
          ],
          [
           "HR"
          ],
          [
           "HR"
          ],
          [
           "HR"
          ],
          [
           "HR"
          ],
          [
           "HR"
          ],
          [
           "HR"
          ],
          [
           "HR"
          ],
          [
           "HR"
          ],
          [
           "HR"
          ],
          [
           "HR"
          ],
          [
           "HR"
          ],
          [
           "HR"
          ],
          [
           "HR"
          ],
          [
           "HR"
          ],
          [
           "HR"
          ],
          [
           "HR"
          ],
          [
           "HR"
          ],
          [
           "HR"
          ],
          [
           "HR"
          ],
          [
           "HR"
          ],
          [
           "HR"
          ],
          [
           "HR"
          ],
          [
           "HR"
          ],
          [
           "HR"
          ],
          [
           "HR"
          ],
          [
           "HR"
          ],
          [
           "HR"
          ],
          [
           "HR"
          ],
          [
           "HR"
          ],
          [
           "HR"
          ],
          [
           "HR"
          ],
          [
           "HR"
          ],
          [
           "HR"
          ],
          [
           "HR"
          ],
          [
           "HR"
          ],
          [
           "HR"
          ],
          [
           "HR"
          ],
          [
           "HR"
          ],
          [
           "HR"
          ],
          [
           "HR"
          ],
          [
           "HR"
          ],
          [
           "HR"
          ],
          [
           "HR"
          ],
          [
           "HR"
          ],
          [
           "Advocate"
          ],
          [
           "Advocate"
          ],
          [
           "Advocate"
          ],
          [
           "Advocate"
          ],
          [
           "Advocate"
          ],
          [
           "Advocate"
          ],
          [
           "Advocate"
          ],
          [
           "Advocate"
          ],
          [
           "Advocate"
          ],
          [
           "Advocate"
          ],
          [
           "Advocate"
          ],
          [
           "Advocate"
          ],
          [
           "Advocate"
          ],
          [
           "Advocate"
          ],
          [
           "Advocate"
          ],
          [
           "Advocate"
          ],
          [
           "Advocate"
          ],
          [
           "Advocate"
          ],
          [
           "Advocate"
          ],
          [
           "Advocate"
          ],
          [
           "Arts"
          ],
          [
           "Arts"
          ],
          [
           "Arts"
          ],
          [
           "Arts"
          ],
          [
           "Arts"
          ],
          [
           "Arts"
          ],
          [
           "Arts"
          ],
          [
           "Arts"
          ],
          [
           "Arts"
          ],
          [
           "Arts"
          ],
          [
           "Arts"
          ],
          [
           "Arts"
          ],
          [
           "Arts"
          ],
          [
           "Arts"
          ],
          [
           "Arts"
          ],
          [
           "Arts"
          ],
          [
           "Arts"
          ],
          [
           "Arts"
          ],
          [
           "Arts"
          ],
          [
           "Arts"
          ],
          [
           "Arts"
          ],
          [
           "Arts"
          ],
          [
           "Arts"
          ],
          [
           "Arts"
          ],
          [
           "Arts"
          ],
          [
           "Arts"
          ],
          [
           "Arts"
          ],
          [
           "Arts"
          ],
          [
           "Arts"
          ],
          [
           "Arts"
          ],
          [
           "Arts"
          ],
          [
           "Arts"
          ],
          [
           "Arts"
          ],
          [
           "Arts"
          ],
          [
           "Arts"
          ],
          [
           "Arts"
          ],
          [
           "Web Designing"
          ],
          [
           "Web Designing"
          ],
          [
           "Web Designing"
          ],
          [
           "Web Designing"
          ],
          [
           "Web Designing"
          ],
          [
           "Web Designing"
          ],
          [
           "Web Designing"
          ],
          [
           "Web Designing"
          ],
          [
           "Web Designing"
          ],
          [
           "Web Designing"
          ],
          [
           "Web Designing"
          ],
          [
           "Web Designing"
          ],
          [
           "Web Designing"
          ],
          [
           "Web Designing"
          ],
          [
           "Web Designing"
          ],
          [
           "Web Designing"
          ],
          [
           "Web Designing"
          ],
          [
           "Web Designing"
          ],
          [
           "Web Designing"
          ],
          [
           "Web Designing"
          ],
          [
           "Web Designing"
          ],
          [
           "Web Designing"
          ],
          [
           "Web Designing"
          ],
          [
           "Web Designing"
          ],
          [
           "Web Designing"
          ],
          [
           "Web Designing"
          ],
          [
           "Web Designing"
          ],
          [
           "Web Designing"
          ],
          [
           "Web Designing"
          ],
          [
           "Web Designing"
          ],
          [
           "Web Designing"
          ],
          [
           "Web Designing"
          ],
          [
           "Web Designing"
          ],
          [
           "Web Designing"
          ],
          [
           "Web Designing"
          ],
          [
           "Web Designing"
          ],
          [
           "Web Designing"
          ],
          [
           "Web Designing"
          ],
          [
           "Web Designing"
          ],
          [
           "Web Designing"
          ],
          [
           "Web Designing"
          ],
          [
           "Web Designing"
          ],
          [
           "Web Designing"
          ],
          [
           "Web Designing"
          ],
          [
           "Web Designing"
          ],
          [
           "Mechanical Engineer"
          ],
          [
           "Mechanical Engineer"
          ],
          [
           "Mechanical Engineer"
          ],
          [
           "Mechanical Engineer"
          ],
          [
           "Mechanical Engineer"
          ],
          [
           "Mechanical Engineer"
          ],
          [
           "Mechanical Engineer"
          ],
          [
           "Mechanical Engineer"
          ],
          [
           "Mechanical Engineer"
          ],
          [
           "Mechanical Engineer"
          ],
          [
           "Mechanical Engineer"
          ],
          [
           "Mechanical Engineer"
          ],
          [
           "Mechanical Engineer"
          ],
          [
           "Mechanical Engineer"
          ],
          [
           "Mechanical Engineer"
          ],
          [
           "Mechanical Engineer"
          ],
          [
           "Mechanical Engineer"
          ],
          [
           "Mechanical Engineer"
          ],
          [
           "Mechanical Engineer"
          ],
          [
           "Mechanical Engineer"
          ],
          [
           "Mechanical Engineer"
          ],
          [
           "Mechanical Engineer"
          ],
          [
           "Mechanical Engineer"
          ],
          [
           "Mechanical Engineer"
          ],
          [
           "Mechanical Engineer"
          ],
          [
           "Mechanical Engineer"
          ],
          [
           "Mechanical Engineer"
          ],
          [
           "Mechanical Engineer"
          ],
          [
           "Mechanical Engineer"
          ],
          [
           "Mechanical Engineer"
          ],
          [
           "Mechanical Engineer"
          ],
          [
           "Mechanical Engineer"
          ],
          [
           "Mechanical Engineer"
          ],
          [
           "Mechanical Engineer"
          ],
          [
           "Mechanical Engineer"
          ],
          [
           "Mechanical Engineer"
          ],
          [
           "Mechanical Engineer"
          ],
          [
           "Mechanical Engineer"
          ],
          [
           "Mechanical Engineer"
          ],
          [
           "Mechanical Engineer"
          ],
          [
           "Sales"
          ],
          [
           "Sales"
          ],
          [
           "Sales"
          ],
          [
           "Sales"
          ],
          [
           "Sales"
          ],
          [
           "Sales"
          ],
          [
           "Sales"
          ],
          [
           "Sales"
          ],
          [
           "Sales"
          ],
          [
           "Sales"
          ],
          [
           "Sales"
          ],
          [
           "Sales"
          ],
          [
           "Sales"
          ],
          [
           "Sales"
          ],
          [
           "Sales"
          ],
          [
           "Sales"
          ],
          [
           "Sales"
          ],
          [
           "Sales"
          ],
          [
           "Sales"
          ],
          [
           "Sales"
          ],
          [
           "Sales"
          ],
          [
           "Sales"
          ],
          [
           "Sales"
          ],
          [
           "Sales"
          ],
          [
           "Sales"
          ],
          [
           "Sales"
          ],
          [
           "Sales"
          ],
          [
           "Sales"
          ],
          [
           "Sales"
          ],
          [
           "Sales"
          ],
          [
           "Sales"
          ],
          [
           "Sales"
          ],
          [
           "Sales"
          ],
          [
           "Sales"
          ],
          [
           "Sales"
          ],
          [
           "Sales"
          ],
          [
           "Sales"
          ],
          [
           "Sales"
          ],
          [
           "Sales"
          ],
          [
           "Sales"
          ],
          [
           "Health and fitness"
          ],
          [
           "Health and fitness"
          ],
          [
           "Health and fitness"
          ],
          [
           "Health and fitness"
          ],
          [
           "Health and fitness"
          ],
          [
           "Health and fitness"
          ],
          [
           "Health and fitness"
          ],
          [
           "Health and fitness"
          ],
          [
           "Health and fitness"
          ],
          [
           "Health and fitness"
          ],
          [
           "Health and fitness"
          ],
          [
           "Health and fitness"
          ],
          [
           "Health and fitness"
          ],
          [
           "Health and fitness"
          ],
          [
           "Health and fitness"
          ],
          [
           "Health and fitness"
          ],
          [
           "Health and fitness"
          ],
          [
           "Health and fitness"
          ],
          [
           "Health and fitness"
          ],
          [
           "Health and fitness"
          ],
          [
           "Health and fitness"
          ],
          [
           "Health and fitness"
          ],
          [
           "Health and fitness"
          ],
          [
           "Health and fitness"
          ],
          [
           "Health and fitness"
          ],
          [
           "Health and fitness"
          ],
          [
           "Health and fitness"
          ],
          [
           "Health and fitness"
          ],
          [
           "Health and fitness"
          ],
          [
           "Health and fitness"
          ],
          [
           "Civil Engineer"
          ],
          [
           "Civil Engineer"
          ],
          [
           "Civil Engineer"
          ],
          [
           "Civil Engineer"
          ],
          [
           "Civil Engineer"
          ],
          [
           "Civil Engineer"
          ],
          [
           "Civil Engineer"
          ],
          [
           "Civil Engineer"
          ],
          [
           "Civil Engineer"
          ],
          [
           "Civil Engineer"
          ],
          [
           "Civil Engineer"
          ],
          [
           "Civil Engineer"
          ],
          [
           "Civil Engineer"
          ],
          [
           "Civil Engineer"
          ],
          [
           "Civil Engineer"
          ],
          [
           "Civil Engineer"
          ],
          [
           "Civil Engineer"
          ],
          [
           "Civil Engineer"
          ],
          [
           "Civil Engineer"
          ],
          [
           "Civil Engineer"
          ],
          [
           "Civil Engineer"
          ],
          [
           "Civil Engineer"
          ],
          [
           "Civil Engineer"
          ],
          [
           "Civil Engineer"
          ],
          [
           "Java Developer"
          ],
          [
           "Java Developer"
          ],
          [
           "Java Developer"
          ],
          [
           "Java Developer"
          ],
          [
           "Java Developer"
          ],
          [
           "Java Developer"
          ],
          [
           "Java Developer"
          ],
          [
           "Java Developer"
          ],
          [
           "Java Developer"
          ],
          [
           "Java Developer"
          ],
          [
           "Java Developer"
          ],
          [
           "Java Developer"
          ],
          [
           "Java Developer"
          ],
          [
           "Java Developer"
          ],
          [
           "Java Developer"
          ],
          [
           "Java Developer"
          ],
          [
           "Java Developer"
          ],
          [
           "Java Developer"
          ],
          [
           "Java Developer"
          ],
          [
           "Java Developer"
          ],
          [
           "Java Developer"
          ],
          [
           "Java Developer"
          ],
          [
           "Java Developer"
          ],
          [
           "Java Developer"
          ],
          [
           "Java Developer"
          ],
          [
           "Java Developer"
          ],
          [
           "Java Developer"
          ],
          [
           "Java Developer"
          ],
          [
           "Java Developer"
          ],
          [
           "Java Developer"
          ],
          [
           "Java Developer"
          ],
          [
           "Java Developer"
          ],
          [
           "Java Developer"
          ],
          [
           "Java Developer"
          ],
          [
           "Java Developer"
          ],
          [
           "Java Developer"
          ],
          [
           "Java Developer"
          ],
          [
           "Java Developer"
          ],
          [
           "Java Developer"
          ],
          [
           "Java Developer"
          ],
          [
           "Java Developer"
          ],
          [
           "Java Developer"
          ],
          [
           "Java Developer"
          ],
          [
           "Java Developer"
          ],
          [
           "Java Developer"
          ],
          [
           "Java Developer"
          ],
          [
           "Java Developer"
          ],
          [
           "Java Developer"
          ],
          [
           "Java Developer"
          ],
          [
           "Java Developer"
          ],
          [
           "Java Developer"
          ],
          [
           "Java Developer"
          ],
          [
           "Java Developer"
          ],
          [
           "Java Developer"
          ],
          [
           "Java Developer"
          ],
          [
           "Java Developer"
          ],
          [
           "Java Developer"
          ],
          [
           "Java Developer"
          ],
          [
           "Java Developer"
          ],
          [
           "Java Developer"
          ],
          [
           "Java Developer"
          ],
          [
           "Java Developer"
          ],
          [
           "Java Developer"
          ],
          [
           "Java Developer"
          ],
          [
           "Java Developer"
          ],
          [
           "Java Developer"
          ],
          [
           "Java Developer"
          ],
          [
           "Java Developer"
          ],
          [
           "Java Developer"
          ],
          [
           "Java Developer"
          ],
          [
           "Java Developer"
          ],
          [
           "Java Developer"
          ],
          [
           "Java Developer"
          ],
          [
           "Java Developer"
          ],
          [
           "Java Developer"
          ],
          [
           "Java Developer"
          ],
          [
           "Java Developer"
          ],
          [
           "Java Developer"
          ],
          [
           "Java Developer"
          ],
          [
           "Java Developer"
          ],
          [
           "Java Developer"
          ],
          [
           "Java Developer"
          ],
          [
           "Java Developer"
          ],
          [
           "Java Developer"
          ],
          [
           "Business Analyst"
          ],
          [
           "Business Analyst"
          ],
          [
           "Business Analyst"
          ],
          [
           "Business Analyst"
          ],
          [
           "Business Analyst"
          ],
          [
           "Business Analyst"
          ],
          [
           "Business Analyst"
          ],
          [
           "Business Analyst"
          ],
          [
           "Business Analyst"
          ],
          [
           "Business Analyst"
          ],
          [
           "Business Analyst"
          ],
          [
           "Business Analyst"
          ],
          [
           "Business Analyst"
          ],
          [
           "Business Analyst"
          ],
          [
           "Business Analyst"
          ],
          [
           "Business Analyst"
          ],
          [
           "Business Analyst"
          ],
          [
           "Business Analyst"
          ],
          [
           "Business Analyst"
          ],
          [
           "Business Analyst"
          ],
          [
           "Business Analyst"
          ],
          [
           "Business Analyst"
          ],
          [
           "Business Analyst"
          ],
          [
           "Business Analyst"
          ],
          [
           "Business Analyst"
          ],
          [
           "Business Analyst"
          ],
          [
           "Business Analyst"
          ],
          [
           "Business Analyst"
          ],
          [
           "SAP Developer"
          ],
          [
           "SAP Developer"
          ],
          [
           "SAP Developer"
          ],
          [
           "SAP Developer"
          ],
          [
           "SAP Developer"
          ],
          [
           "SAP Developer"
          ],
          [
           "SAP Developer"
          ],
          [
           "SAP Developer"
          ],
          [
           "SAP Developer"
          ],
          [
           "SAP Developer"
          ],
          [
           "SAP Developer"
          ],
          [
           "SAP Developer"
          ],
          [
           "SAP Developer"
          ],
          [
           "SAP Developer"
          ],
          [
           "SAP Developer"
          ],
          [
           "SAP Developer"
          ],
          [
           "SAP Developer"
          ],
          [
           "SAP Developer"
          ],
          [
           "SAP Developer"
          ],
          [
           "SAP Developer"
          ],
          [
           "SAP Developer"
          ],
          [
           "SAP Developer"
          ],
          [
           "SAP Developer"
          ],
          [
           "SAP Developer"
          ],
          [
           "Automation Testing"
          ],
          [
           "Automation Testing"
          ],
          [
           "Automation Testing"
          ],
          [
           "Automation Testing"
          ],
          [
           "Automation Testing"
          ],
          [
           "Automation Testing"
          ],
          [
           "Automation Testing"
          ],
          [
           "Automation Testing"
          ],
          [
           "Automation Testing"
          ],
          [
           "Automation Testing"
          ],
          [
           "Automation Testing"
          ],
          [
           "Automation Testing"
          ],
          [
           "Automation Testing"
          ],
          [
           "Automation Testing"
          ],
          [
           "Automation Testing"
          ],
          [
           "Automation Testing"
          ],
          [
           "Automation Testing"
          ],
          [
           "Automation Testing"
          ],
          [
           "Automation Testing"
          ],
          [
           "Automation Testing"
          ],
          [
           "Automation Testing"
          ],
          [
           "Automation Testing"
          ],
          [
           "Automation Testing"
          ],
          [
           "Automation Testing"
          ],
          [
           "Automation Testing"
          ],
          [
           "Automation Testing"
          ],
          [
           "Electrical Engineering"
          ],
          [
           "Electrical Engineering"
          ],
          [
           "Electrical Engineering"
          ],
          [
           "Electrical Engineering"
          ],
          [
           "Electrical Engineering"
          ],
          [
           "Electrical Engineering"
          ],
          [
           "Electrical Engineering"
          ],
          [
           "Electrical Engineering"
          ],
          [
           "Electrical Engineering"
          ],
          [
           "Electrical Engineering"
          ],
          [
           "Electrical Engineering"
          ],
          [
           "Electrical Engineering"
          ],
          [
           "Electrical Engineering"
          ],
          [
           "Electrical Engineering"
          ],
          [
           "Electrical Engineering"
          ],
          [
           "Electrical Engineering"
          ],
          [
           "Electrical Engineering"
          ],
          [
           "Electrical Engineering"
          ],
          [
           "Electrical Engineering"
          ],
          [
           "Electrical Engineering"
          ],
          [
           "Electrical Engineering"
          ],
          [
           "Electrical Engineering"
          ],
          [
           "Electrical Engineering"
          ],
          [
           "Electrical Engineering"
          ],
          [
           "Electrical Engineering"
          ],
          [
           "Electrical Engineering"
          ],
          [
           "Electrical Engineering"
          ],
          [
           "Electrical Engineering"
          ],
          [
           "Electrical Engineering"
          ],
          [
           "Electrical Engineering"
          ],
          [
           "Operations Manager"
          ],
          [
           "Operations Manager"
          ],
          [
           "Operations Manager"
          ],
          [
           "Operations Manager"
          ],
          [
           "Operations Manager"
          ],
          [
           "Operations Manager"
          ],
          [
           "Operations Manager"
          ],
          [
           "Operations Manager"
          ],
          [
           "Operations Manager"
          ],
          [
           "Operations Manager"
          ],
          [
           "Operations Manager"
          ],
          [
           "Operations Manager"
          ],
          [
           "Operations Manager"
          ],
          [
           "Operations Manager"
          ],
          [
           "Operations Manager"
          ],
          [
           "Operations Manager"
          ],
          [
           "Operations Manager"
          ],
          [
           "Operations Manager"
          ],
          [
           "Operations Manager"
          ],
          [
           "Operations Manager"
          ],
          [
           "Operations Manager"
          ],
          [
           "Operations Manager"
          ],
          [
           "Operations Manager"
          ],
          [
           "Operations Manager"
          ],
          [
           "Operations Manager"
          ],
          [
           "Operations Manager"
          ],
          [
           "Operations Manager"
          ],
          [
           "Operations Manager"
          ],
          [
           "Operations Manager"
          ],
          [
           "Operations Manager"
          ],
          [
           "Operations Manager"
          ],
          [
           "Operations Manager"
          ],
          [
           "Operations Manager"
          ],
          [
           "Operations Manager"
          ],
          [
           "Operations Manager"
          ],
          [
           "Operations Manager"
          ],
          [
           "Operations Manager"
          ],
          [
           "Operations Manager"
          ],
          [
           "Operations Manager"
          ],
          [
           "Operations Manager"
          ],
          [
           "Python Developer"
          ],
          [
           "Python Developer"
          ],
          [
           "Python Developer"
          ],
          [
           "Python Developer"
          ],
          [
           "Python Developer"
          ],
          [
           "Python Developer"
          ],
          [
           "Python Developer"
          ],
          [
           "Python Developer"
          ],
          [
           "Python Developer"
          ],
          [
           "Python Developer"
          ],
          [
           "Python Developer"
          ],
          [
           "Python Developer"
          ],
          [
           "Python Developer"
          ],
          [
           "Python Developer"
          ],
          [
           "Python Developer"
          ],
          [
           "Python Developer"
          ],
          [
           "Python Developer"
          ],
          [
           "Python Developer"
          ],
          [
           "Python Developer"
          ],
          [
           "Python Developer"
          ],
          [
           "Python Developer"
          ],
          [
           "Python Developer"
          ],
          [
           "Python Developer"
          ],
          [
           "Python Developer"
          ],
          [
           "Python Developer"
          ],
          [
           "Python Developer"
          ],
          [
           "Python Developer"
          ],
          [
           "Python Developer"
          ],
          [
           "Python Developer"
          ],
          [
           "Python Developer"
          ],
          [
           "Python Developer"
          ],
          [
           "Python Developer"
          ],
          [
           "Python Developer"
          ],
          [
           "Python Developer"
          ],
          [
           "Python Developer"
          ],
          [
           "Python Developer"
          ],
          [
           "Python Developer"
          ],
          [
           "Python Developer"
          ],
          [
           "Python Developer"
          ],
          [
           "Python Developer"
          ],
          [
           "Python Developer"
          ],
          [
           "Python Developer"
          ],
          [
           "Python Developer"
          ],
          [
           "Python Developer"
          ],
          [
           "Python Developer"
          ],
          [
           "Python Developer"
          ],
          [
           "Python Developer"
          ],
          [
           "Python Developer"
          ],
          [
           "DevOps Engineer"
          ],
          [
           "DevOps Engineer"
          ],
          [
           "DevOps Engineer"
          ],
          [
           "DevOps Engineer"
          ],
          [
           "DevOps Engineer"
          ],
          [
           "DevOps Engineer"
          ],
          [
           "DevOps Engineer"
          ],
          [
           "DevOps Engineer"
          ],
          [
           "DevOps Engineer"
          ],
          [
           "DevOps Engineer"
          ],
          [
           "DevOps Engineer"
          ],
          [
           "DevOps Engineer"
          ],
          [
           "DevOps Engineer"
          ],
          [
           "DevOps Engineer"
          ],
          [
           "DevOps Engineer"
          ],
          [
           "DevOps Engineer"
          ],
          [
           "DevOps Engineer"
          ],
          [
           "DevOps Engineer"
          ],
          [
           "DevOps Engineer"
          ],
          [
           "DevOps Engineer"
          ],
          [
           "DevOps Engineer"
          ],
          [
           "DevOps Engineer"
          ],
          [
           "DevOps Engineer"
          ],
          [
           "DevOps Engineer"
          ],
          [
           "DevOps Engineer"
          ],
          [
           "DevOps Engineer"
          ],
          [
           "DevOps Engineer"
          ],
          [
           "DevOps Engineer"
          ],
          [
           "DevOps Engineer"
          ],
          [
           "DevOps Engineer"
          ],
          [
           "DevOps Engineer"
          ],
          [
           "DevOps Engineer"
          ],
          [
           "DevOps Engineer"
          ],
          [
           "DevOps Engineer"
          ],
          [
           "DevOps Engineer"
          ],
          [
           "DevOps Engineer"
          ],
          [
           "DevOps Engineer"
          ],
          [
           "DevOps Engineer"
          ],
          [
           "DevOps Engineer"
          ],
          [
           "DevOps Engineer"
          ],
          [
           "DevOps Engineer"
          ],
          [
           "DevOps Engineer"
          ],
          [
           "DevOps Engineer"
          ],
          [
           "DevOps Engineer"
          ],
          [
           "DevOps Engineer"
          ],
          [
           "DevOps Engineer"
          ],
          [
           "DevOps Engineer"
          ],
          [
           "DevOps Engineer"
          ],
          [
           "DevOps Engineer"
          ],
          [
           "DevOps Engineer"
          ],
          [
           "DevOps Engineer"
          ],
          [
           "DevOps Engineer"
          ],
          [
           "DevOps Engineer"
          ],
          [
           "DevOps Engineer"
          ],
          [
           "DevOps Engineer"
          ],
          [
           "Network Security Engineer"
          ],
          [
           "Network Security Engineer"
          ],
          [
           "Network Security Engineer"
          ],
          [
           "Network Security Engineer"
          ],
          [
           "Network Security Engineer"
          ],
          [
           "Network Security Engineer"
          ],
          [
           "Network Security Engineer"
          ],
          [
           "Network Security Engineer"
          ],
          [
           "Network Security Engineer"
          ],
          [
           "Network Security Engineer"
          ],
          [
           "Network Security Engineer"
          ],
          [
           "Network Security Engineer"
          ],
          [
           "Network Security Engineer"
          ],
          [
           "Network Security Engineer"
          ],
          [
           "Network Security Engineer"
          ],
          [
           "Network Security Engineer"
          ],
          [
           "Network Security Engineer"
          ],
          [
           "Network Security Engineer"
          ],
          [
           "Network Security Engineer"
          ],
          [
           "Network Security Engineer"
          ],
          [
           "Network Security Engineer"
          ],
          [
           "Network Security Engineer"
          ],
          [
           "Network Security Engineer"
          ],
          [
           "Network Security Engineer"
          ],
          [
           "Network Security Engineer"
          ],
          [
           "PMO"
          ],
          [
           "PMO"
          ],
          [
           "PMO"
          ],
          [
           "PMO"
          ],
          [
           "PMO"
          ],
          [
           "PMO"
          ],
          [
           "PMO"
          ],
          [
           "PMO"
          ],
          [
           "PMO"
          ],
          [
           "PMO"
          ],
          [
           "PMO"
          ],
          [
           "PMO"
          ],
          [
           "PMO"
          ],
          [
           "PMO"
          ],
          [
           "PMO"
          ],
          [
           "PMO"
          ],
          [
           "PMO"
          ],
          [
           "PMO"
          ],
          [
           "PMO"
          ],
          [
           "PMO"
          ],
          [
           "PMO"
          ],
          [
           "PMO"
          ],
          [
           "PMO"
          ],
          [
           "PMO"
          ],
          [
           "PMO"
          ],
          [
           "PMO"
          ],
          [
           "PMO"
          ],
          [
           "PMO"
          ],
          [
           "PMO"
          ],
          [
           "PMO"
          ],
          [
           "Database"
          ],
          [
           "Database"
          ],
          [
           "Database"
          ],
          [
           "Database"
          ],
          [
           "Database"
          ],
          [
           "Database"
          ],
          [
           "Database"
          ],
          [
           "Database"
          ],
          [
           "Database"
          ],
          [
           "Database"
          ],
          [
           "Database"
          ],
          [
           "Database"
          ],
          [
           "Database"
          ],
          [
           "Database"
          ],
          [
           "Database"
          ],
          [
           "Database"
          ],
          [
           "Database"
          ],
          [
           "Database"
          ],
          [
           "Database"
          ],
          [
           "Database"
          ],
          [
           "Database"
          ],
          [
           "Database"
          ],
          [
           "Database"
          ],
          [
           "Database"
          ],
          [
           "Database"
          ],
          [
           "Database"
          ],
          [
           "Database"
          ],
          [
           "Database"
          ],
          [
           "Database"
          ],
          [
           "Database"
          ],
          [
           "Database"
          ],
          [
           "Database"
          ],
          [
           "Database"
          ],
          [
           "Hadoop"
          ],
          [
           "Hadoop"
          ],
          [
           "Hadoop"
          ],
          [
           "Hadoop"
          ],
          [
           "Hadoop"
          ],
          [
           "Hadoop"
          ],
          [
           "Hadoop"
          ],
          [
           "Hadoop"
          ],
          [
           "Hadoop"
          ],
          [
           "Hadoop"
          ],
          [
           "Hadoop"
          ],
          [
           "Hadoop"
          ],
          [
           "Hadoop"
          ],
          [
           "Hadoop"
          ],
          [
           "Hadoop"
          ],
          [
           "Hadoop"
          ],
          [
           "Hadoop"
          ],
          [
           "Hadoop"
          ],
          [
           "Hadoop"
          ],
          [
           "Hadoop"
          ],
          [
           "Hadoop"
          ],
          [
           "Hadoop"
          ],
          [
           "Hadoop"
          ],
          [
           "Hadoop"
          ],
          [
           "Hadoop"
          ],
          [
           "Hadoop"
          ],
          [
           "Hadoop"
          ],
          [
           "Hadoop"
          ],
          [
           "Hadoop"
          ],
          [
           "Hadoop"
          ],
          [
           "Hadoop"
          ],
          [
           "Hadoop"
          ],
          [
           "Hadoop"
          ],
          [
           "Hadoop"
          ],
          [
           "Hadoop"
          ],
          [
           "Hadoop"
          ],
          [
           "Hadoop"
          ],
          [
           "Hadoop"
          ],
          [
           "Hadoop"
          ],
          [
           "Hadoop"
          ],
          [
           "Hadoop"
          ],
          [
           "Hadoop"
          ],
          [
           "ETL Developer"
          ],
          [
           "ETL Developer"
          ],
          [
           "ETL Developer"
          ],
          [
           "ETL Developer"
          ],
          [
           "ETL Developer"
          ],
          [
           "ETL Developer"
          ],
          [
           "ETL Developer"
          ],
          [
           "ETL Developer"
          ],
          [
           "ETL Developer"
          ],
          [
           "ETL Developer"
          ],
          [
           "ETL Developer"
          ],
          [
           "ETL Developer"
          ],
          [
           "ETL Developer"
          ],
          [
           "ETL Developer"
          ],
          [
           "ETL Developer"
          ],
          [
           "ETL Developer"
          ],
          [
           "ETL Developer"
          ],
          [
           "ETL Developer"
          ],
          [
           "ETL Developer"
          ],
          [
           "ETL Developer"
          ],
          [
           "ETL Developer"
          ],
          [
           "ETL Developer"
          ],
          [
           "ETL Developer"
          ],
          [
           "ETL Developer"
          ],
          [
           "ETL Developer"
          ],
          [
           "ETL Developer"
          ],
          [
           "ETL Developer"
          ],
          [
           "ETL Developer"
          ],
          [
           "ETL Developer"
          ],
          [
           "ETL Developer"
          ],
          [
           "ETL Developer"
          ],
          [
           "ETL Developer"
          ],
          [
           "ETL Developer"
          ],
          [
           "ETL Developer"
          ],
          [
           "ETL Developer"
          ],
          [
           "ETL Developer"
          ],
          [
           "ETL Developer"
          ],
          [
           "ETL Developer"
          ],
          [
           "ETL Developer"
          ],
          [
           "ETL Developer"
          ],
          [
           "DotNet Developer"
          ],
          [
           "DotNet Developer"
          ],
          [
           "DotNet Developer"
          ],
          [
           "DotNet Developer"
          ],
          [
           "DotNet Developer"
          ],
          [
           "DotNet Developer"
          ],
          [
           "DotNet Developer"
          ],
          [
           "DotNet Developer"
          ],
          [
           "DotNet Developer"
          ],
          [
           "DotNet Developer"
          ],
          [
           "DotNet Developer"
          ],
          [
           "DotNet Developer"
          ],
          [
           "DotNet Developer"
          ],
          [
           "DotNet Developer"
          ],
          [
           "DotNet Developer"
          ],
          [
           "DotNet Developer"
          ],
          [
           "DotNet Developer"
          ],
          [
           "DotNet Developer"
          ],
          [
           "DotNet Developer"
          ],
          [
           "DotNet Developer"
          ],
          [
           "DotNet Developer"
          ],
          [
           "DotNet Developer"
          ],
          [
           "DotNet Developer"
          ],
          [
           "DotNet Developer"
          ],
          [
           "DotNet Developer"
          ],
          [
           "DotNet Developer"
          ],
          [
           "DotNet Developer"
          ],
          [
           "DotNet Developer"
          ],
          [
           "Blockchain"
          ],
          [
           "Blockchain"
          ],
          [
           "Blockchain"
          ],
          [
           "Blockchain"
          ],
          [
           "Blockchain"
          ],
          [
           "Blockchain"
          ],
          [
           "Blockchain"
          ],
          [
           "Blockchain"
          ],
          [
           "Blockchain"
          ],
          [
           "Blockchain"
          ],
          [
           "Blockchain"
          ],
          [
           "Blockchain"
          ],
          [
           "Blockchain"
          ],
          [
           "Blockchain"
          ],
          [
           "Blockchain"
          ],
          [
           "Blockchain"
          ],
          [
           "Blockchain"
          ],
          [
           "Blockchain"
          ],
          [
           "Blockchain"
          ],
          [
           "Blockchain"
          ],
          [
           "Blockchain"
          ],
          [
           "Blockchain"
          ],
          [
           "Blockchain"
          ],
          [
           "Blockchain"
          ],
          [
           "Blockchain"
          ],
          [
           "Blockchain"
          ],
          [
           "Blockchain"
          ],
          [
           "Blockchain"
          ],
          [
           "Blockchain"
          ],
          [
           "Blockchain"
          ],
          [
           "Blockchain"
          ],
          [
           "Blockchain"
          ],
          [
           "Blockchain"
          ],
          [
           "Blockchain"
          ],
          [
           "Blockchain"
          ],
          [
           "Blockchain"
          ],
          [
           "Blockchain"
          ],
          [
           "Blockchain"
          ],
          [
           "Blockchain"
          ],
          [
           "Blockchain"
          ],
          [
           "Testing"
          ],
          [
           "Testing"
          ],
          [
           "Testing"
          ],
          [
           "Testing"
          ],
          [
           "Testing"
          ],
          [
           "Testing"
          ],
          [
           "Testing"
          ],
          [
           "Testing"
          ],
          [
           "Testing"
          ],
          [
           "Testing"
          ],
          [
           "Testing"
          ],
          [
           "Testing"
          ],
          [
           "Testing"
          ],
          [
           "Testing"
          ],
          [
           "Testing"
          ],
          [
           "Testing"
          ],
          [
           "Testing"
          ],
          [
           "Testing"
          ],
          [
           "Testing"
          ],
          [
           "Testing"
          ],
          [
           "Testing"
          ],
          [
           "Testing"
          ],
          [
           "Testing"
          ],
          [
           "Testing"
          ],
          [
           "Testing"
          ],
          [
           "Testing"
          ],
          [
           "Testing"
          ],
          [
           "Testing"
          ],
          [
           "Testing"
          ],
          [
           "Testing"
          ],
          [
           "Testing"
          ],
          [
           "Testing"
          ],
          [
           "Testing"
          ],
          [
           "Testing"
          ],
          [
           "Testing"
          ],
          [
           "Testing"
          ],
          [
           "Testing"
          ],
          [
           "Testing"
          ],
          [
           "Testing"
          ],
          [
           "Testing"
          ],
          [
           "Testing"
          ],
          [
           "Testing"
          ],
          [
           "Testing"
          ],
          [
           "Testing"
          ],
          [
           "Testing"
          ],
          [
           "Testing"
          ],
          [
           "Testing"
          ],
          [
           "Testing"
          ],
          [
           "Testing"
          ],
          [
           "Testing"
          ],
          [
           "Testing"
          ],
          [
           "Testing"
          ],
          [
           "Testing"
          ],
          [
           "Testing"
          ],
          [
           "Testing"
          ],
          [
           "Testing"
          ],
          [
           "Testing"
          ],
          [
           "Testing"
          ],
          [
           "Testing"
          ],
          [
           "Testing"
          ],
          [
           "Testing"
          ],
          [
           "Testing"
          ],
          [
           "Testing"
          ],
          [
           "Testing"
          ],
          [
           "Testing"
          ],
          [
           "Testing"
          ],
          [
           "Testing"
          ],
          [
           "Testing"
          ],
          [
           "Testing"
          ],
          [
           "Testing"
          ]
         ],
         "hovertemplate": "x=%{x}<br>y=%{y}<br>Category=%{customdata[0]}<br>cluster=%{marker.color}<extra></extra>",
         "legendgroup": "",
         "marker": {
          "color": {
           "bdata": "AwAAAAMAAAADAAAAAwAAAAMAAAADAAAAAwAAAAMAAAADAAAAAwAAAAMAAAADAAAAAwAAAAMAAAADAAAAAwAAAAMAAAADAAAAAwAAAAMAAAADAAAAAwAAAAMAAAADAAAAAwAAAAMAAAADAAAAAwAAAAMAAAADAAAAAwAAAAMAAAADAAAAAwAAAAMAAAADAAAAAwAAAAMAAAADAAAAAwAAAAIAAAACAAAAAgAAAAIAAAACAAAAAgAAAAIAAAACAAAAAgAAAAIAAAACAAAAAgAAAAIAAAACAAAAAgAAAAIAAAACAAAAAgAAAAIAAAACAAAAAgAAAAIAAAACAAAAAgAAAAIAAAACAAAAAgAAAAIAAAACAAAAAgAAAAIAAAACAAAAAgAAAAIAAAACAAAAAgAAAAIAAAACAAAAAgAAAAIAAAACAAAAAgAAAAIAAAACAAAAAwAAAAMAAAADAAAAAwAAAAMAAAADAAAAAwAAAAMAAAADAAAAAwAAAAMAAAADAAAAAwAAAAMAAAADAAAAAwAAAAMAAAADAAAAAwAAAAMAAAADAAAAAwAAAAMAAAADAAAAAwAAAAMAAAADAAAAAwAAAAMAAAADAAAAAwAAAAMAAAADAAAAAwAAAAMAAAADAAAAAwAAAAMAAAADAAAAAwAAAAMAAAADAAAAAwAAAAMAAAADAAAAAwAAAAMAAAADAAAAAwAAAAMAAAADAAAAAwAAAAMAAAADAAAAAwAAAAMAAAADAAAAAwAAAAMAAAADAAAAAwAAAAMAAAADAAAAAwAAAAMAAAADAAAAAwAAAAMAAAADAAAAAwAAAAMAAAADAAAAAwAAAAMAAAADAAAAAwAAAAMAAAADAAAAAwAAAAMAAAADAAAAAwAAAAMAAAADAAAAAwAAAAMAAAADAAAAAwAAAAMAAAADAAAAAwAAAAMAAAADAAAAAwAAAAMAAAADAAAAAwAAAAMAAAADAAAAAwAAAAMAAAADAAAAAwAAAAMAAAADAAAAAwAAAAMAAAADAAAAAwAAAAMAAAADAAAAAwAAAAMAAAADAAAAAwAAAAMAAAADAAAAAwAAAAMAAAADAAAAAwAAAAMAAAADAAAAAwAAAAMAAAADAAAAAwAAAAMAAAADAAAAAwAAAAMAAAADAAAAAwAAAAMAAAADAAAAAwAAAAMAAAADAAAAAwAAAAMAAAADAAAAAwAAAAMAAAADAAAAAwAAAAMAAAADAAAAAwAAAAMAAAADAAAAAwAAAAMAAAADAAAAAwAAAAMAAAADAAAAAwAAAAMAAAADAAAAAwAAAAMAAAADAAAAAwAAAAMAAAADAAAAAwAAAAMAAAADAAAAAwAAAAMAAAADAAAAAwAAAAMAAAADAAAAAwAAAAMAAAADAAAAAwAAAAMAAAADAAAAAwAAAAMAAAADAAAAAwAAAAMAAAADAAAAAwAAAAMAAAADAAAAAwAAAAMAAAADAAAAAwAAAAMAAAADAAAAAwAAAAMAAAADAAAAAwAAAAMAAAADAAAAAwAAAAMAAAADAAAAAwAAAAMAAAADAAAAAwAAAAMAAAADAAAAAwAAAAMAAAADAAAAAwAAAAMAAAADAAAAAwAAAAMAAAADAAAAAwAAAAMAAAADAAAAAwAAAAMAAAADAAAAAwAAAAMAAAADAAAAAwAAAAMAAAADAAAAAwAAAAMAAAADAAAAAwAAAAAAAAAAAAAAAAAAAAAAAAAAAAAAAAAAAAAAAAAAAAAAAAAAAAAAAAAAAAAAAAAAAAAAAAAAAAAAAAAAAAAAAAAAAAAAAAAAAAAAAAAAAAAAAAAAAAAAAAAAAAAAAAAAAAAAAAAAAAAAAAAAAAAAAAAAAAAAAAAAAAAAAAAAAAAAAAAAAAAAAAAAAAAAAAAAAAAAAAAAAAAAAAAAAAAAAAAAAAAAAAAAAAAAAAAAAAAAAAAAAAAAAAAAAAAAAAAAAAAAAAAAAAAAAAAAAAAAAAAAAAAAAAAAAAAAAAAAAAAAAAAAAAAAAAAAAAAAAAAAAAAAAAAAAAAAAAAAAAAAAAAAAAAAAAAAAAAAAAAAAAAAAAAAAAAAAAAAAAAAAAAAAAAAAAAAAAAAAAAAAAAAAAAAAAAAAAAAAAAAAAAAAAAAAAAAAAAAAAAAAAAAAAAAAAMAAAADAAAAAwAAAAMAAAADAAAAAwAAAAMAAAADAAAAAwAAAAMAAAADAAAAAwAAAAMAAAADAAAAAwAAAAMAAAADAAAAAwAAAAMAAAADAAAAAwAAAAMAAAADAAAAAwAAAAMAAAADAAAAAwAAAAMAAAAAAAAAAAAAAAAAAAAAAAAAAAAAAAAAAAAAAAAAAAAAAAAAAAAAAAAAAAAAAAAAAAAAAAAAAAAAAAAAAAAAAAAAAAAAAAAAAAAAAAAAAAAAAAAAAAAAAAAAAAAAAAAAAAABAAAAAQAAAAEAAAABAAAAAQAAAAEAAAABAAAAAQAAAAEAAAABAAAAAQAAAAEAAAABAAAAAQAAAAEAAAABAAAAAQAAAAEAAAABAAAAAQAAAAEAAAABAAAAAQAAAAEAAAABAAAAAQAAAAMAAAADAAAAAwAAAAMAAAADAAAAAwAAAAMAAAADAAAAAwAAAAMAAAADAAAAAwAAAAMAAAADAAAAAwAAAAMAAAADAAAAAwAAAAMAAAADAAAAAwAAAAMAAAADAAAAAwAAAAMAAAADAAAAAwAAAAMAAAADAAAAAwAAAAMAAAADAAAAAwAAAAMAAAADAAAAAwAAAAMAAAADAAAAAwAAAAMAAAADAAAAAwAAAAMAAAADAAAAAwAAAAMAAAADAAAAAwAAAAMAAAADAAAAAwAAAAMAAAADAAAAAwAAAAMAAAADAAAAAwAAAAMAAAADAAAAAwAAAAMAAAADAAAAAwAAAAMAAAADAAAAAwAAAAMAAAADAAAAAwAAAAMAAAAAAAAAAAAAAAAAAAAAAAAAAAAAAAAAAAAAAAAAAAAAAAAAAAAAAAAAAAAAAAAAAAAAAAAAAAAAAAAAAAAAAAAAAAAAAAAAAAAAAAAAAAAAAAAAAAAAAAAAAAAAAAAAAAAAAAAAAAAAAAAAAAAAAAAAAAAAAAAAAAAAAAAAAAAAAAAAAAAAAAAAAAAAAAAAAAAAAAAAAAAAAAAAAAAAAAAAAAAAAAAAAAAAAAAAAAAAAAAAAAAAAAAAAAAAAAAAAAADAAAAAwAAAAMAAAADAAAAAwAAAAMAAAADAAAAAwAAAAMAAAADAAAAAwAAAAMAAAADAAAAAwAAAAMAAAADAAAAAwAAAAMAAAADAAAAAwAAAAMAAAADAAAAAwAAAAMAAAADAAAAAwAAAAMAAAADAAAAAwAAAAMAAAADAAAAAwAAAAMAAAADAAAAAwAAAAMAAAADAAAAAwAAAAMAAAADAAAAAwAAAAMAAAADAAAAAwAAAAMAAAADAAAAAwAAAAMAAAADAAAAAwAAAAMAAAADAAAAAwAAAAMAAAADAAAAAwAAAAMAAAADAAAAAwAAAAMAAAADAAAAAwAAAAMAAAADAAAAAwAAAAMAAAADAAAAAwAAAAMAAAADAAAAAwAAAAMAAAADAAAAAwAAAAMAAAADAAAAAwAAAAMAAAADAAAAAwAAAAMAAAADAAAAAwAAAAMAAAADAAAAAwAAAAMAAAADAAAAAwAAAAMAAAADAAAAAwAAAAMAAAADAAAAAwAAAAMAAAADAAAAAwAAAAMAAAADAAAAAwAAAAMAAAADAAAAAwAAAAMAAAADAAAAAwAAAAMAAAADAAAAAwAAAAMAAAADAAAAAwAAAAMAAAADAAAAAwAAAAMAAAADAAAAAwAAAAMAAAADAAAAAwAAAAMAAAADAAAAAwAAAAMAAAADAAAAAwAAAAMAAAADAAAAAwAAAAMAAAADAAAAAwAAAAMAAAADAAAAAwAAAAMAAAADAAAAAwAAAAMAAAADAAAAAwAAAAQAAAAEAAAABAAAAAQAAAAEAAAABAAAAAQAAAAEAAAABAAAAAQAAAAEAAAABAAAAAQAAAAEAAAABAAAAAQAAAAEAAAABAAAAAQAAAAEAAAABAAAAAQAAAAEAAAABAAAAAQAAAAEAAAABAAAAAQAAAAEAAAABAAAAAQAAAAEAAAABAAAAAQAAAAEAAAABAAAAAQAAAAEAAAABAAAAAQAAAAEAAAABAAAAAAAAAAAAAAAAAAAAAAAAAAAAAAAAAAAAAAAAAAAAAAAAAAAAAAAAAAAAAAAAAAAAAAAAAAAAAAAAAAAAAAAAAAAAAAAAAAAAAAAAAAAAAAAAAAAAAAAAAAAAAAAAAAAAAAAAAAAAAAAAAAAAAAAAAAAAAAAAAAAAAAAAAAAAAAAAAAAAAAAAAAAAAAAAAAAAAAAAAAAAAAAAAAAAAAAAAAAAAAAAAAAAAAAAAAAAAAAAAAAAAAAAAAAAAAAAAAAAAAAAAAAAAAAAAAAAAAAAAAAAAAAAAAAAAAAAAAAAAAAAAAAAAAAAAAAAAAAAAAAAAAAAAAAAAAAAAAAAAAAAAAAAAAAAAAAAAAAAAAAAAAAAwAAAAMAAAADAAAAAwAAAAMAAAADAAAAAwAAAAMAAAADAAAAAwAAAAMAAAADAAAAAwAAAAMAAAADAAAAAwAAAAMAAAADAAAAAwAAAAMAAAADAAAAAwAAAAMAAAADAAAAAwAAAAMAAAADAAAAAwAAAAMAAAADAAAAAwAAAAMAAAADAAAAAwAAAAMAAAADAAAAAwAAAAMAAAADAAAAAwAAAAEAAAABAAAAAQAAAAEAAAABAAAAAQAAAAEAAAABAAAAAQAAAAEAAAABAAAAAQAAAAEAAAABAAAAAQAAAAEAAAABAAAAAQAAAAEAAAABAAAAAQAAAAEAAAABAAAAAQAAAAEAAAABAAAAAQAAAAEAAAABAAAAAQAAAAEAAAABAAAAAQAAAAEAAAABAAAAAQAAAAEAAAABAAAAAQAAAAEAAAABAAAAAQAAAAEAAAABAAAAAQAAAAEAAAABAAAAAQAAAAEAAAABAAAAAQAAAAEAAAABAAAAAQAAAAEAAAABAAAAAQAAAAEAAAABAAAAAQAAAAEAAAABAAAAAQAAAAEAAAABAAAAAQAAAAEAAAABAAAAAQAAAAEAAAA=",
           "dtype": "i4"
          },
          "coloraxis": "coloraxis",
          "symbol": "circle"
         },
         "mode": "markers",
         "name": "",
         "orientation": "v",
         "showlegend": false,
         "type": "scatter",
         "x": {
          "bdata": "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",
          "dtype": "f4"
         },
         "xaxis": "x",
         "y": {
          "bdata": "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",
          "dtype": "f4"
         },
         "yaxis": "y"
        }
       ],
       "layout": {
        "coloraxis": {
         "colorbar": {
          "title": {
           "text": "cluster"
          }
         },
         "colorscale": [
          [
           0,
           "#440154"
          ],
          [
           0.1111111111111111,
           "#482878"
          ],
          [
           0.2222222222222222,
           "#3e4989"
          ],
          [
           0.3333333333333333,
           "#31688e"
          ],
          [
           0.4444444444444444,
           "#26828e"
          ],
          [
           0.5555555555555556,
           "#1f9e89"
          ],
          [
           0.6666666666666666,
           "#35b779"
          ],
          [
           0.7777777777777778,
           "#6ece58"
          ],
          [
           0.8888888888888888,
           "#b5de2b"
          ],
          [
           1,
           "#fde725"
          ]
         ]
        },
        "legend": {
         "tracegroupgap": 0
        },
        "template": {
         "data": {
          "bar": [
           {
            "error_x": {
             "color": "#2a3f5f"
            },
            "error_y": {
             "color": "#2a3f5f"
            },
            "marker": {
             "line": {
              "color": "#E5ECF6",
              "width": 0.5
             },
             "pattern": {
              "fillmode": "overlay",
              "size": 10,
              "solidity": 0.2
             }
            },
            "type": "bar"
           }
          ],
          "barpolar": [
           {
            "marker": {
             "line": {
              "color": "#E5ECF6",
              "width": 0.5
             },
             "pattern": {
              "fillmode": "overlay",
              "size": 10,
              "solidity": 0.2
             }
            },
            "type": "barpolar"
           }
          ],
          "carpet": [
           {
            "aaxis": {
             "endlinecolor": "#2a3f5f",
             "gridcolor": "white",
             "linecolor": "white",
             "minorgridcolor": "white",
             "startlinecolor": "#2a3f5f"
            },
            "baxis": {
             "endlinecolor": "#2a3f5f",
             "gridcolor": "white",
             "linecolor": "white",
             "minorgridcolor": "white",
             "startlinecolor": "#2a3f5f"
            },
            "type": "carpet"
           }
          ],
          "choropleth": [
           {
            "colorbar": {
             "outlinewidth": 0,
             "ticks": ""
            },
            "type": "choropleth"
           }
          ],
          "contour": [
           {
            "colorbar": {
             "outlinewidth": 0,
             "ticks": ""
            },
            "colorscale": [
             [
              0,
              "#0d0887"
             ],
             [
              0.1111111111111111,
              "#46039f"
             ],
             [
              0.2222222222222222,
              "#7201a8"
             ],
             [
              0.3333333333333333,
              "#9c179e"
             ],
             [
              0.4444444444444444,
              "#bd3786"
             ],
             [
              0.5555555555555556,
              "#d8576b"
             ],
             [
              0.6666666666666666,
              "#ed7953"
             ],
             [
              0.7777777777777778,
              "#fb9f3a"
             ],
             [
              0.8888888888888888,
              "#fdca26"
             ],
             [
              1,
              "#f0f921"
             ]
            ],
            "type": "contour"
           }
          ],
          "contourcarpet": [
           {
            "colorbar": {
             "outlinewidth": 0,
             "ticks": ""
            },
            "type": "contourcarpet"
           }
          ],
          "heatmap": [
           {
            "colorbar": {
             "outlinewidth": 0,
             "ticks": ""
            },
            "colorscale": [
             [
              0,
              "#0d0887"
             ],
             [
              0.1111111111111111,
              "#46039f"
             ],
             [
              0.2222222222222222,
              "#7201a8"
             ],
             [
              0.3333333333333333,
              "#9c179e"
             ],
             [
              0.4444444444444444,
              "#bd3786"
             ],
             [
              0.5555555555555556,
              "#d8576b"
             ],
             [
              0.6666666666666666,
              "#ed7953"
             ],
             [
              0.7777777777777778,
              "#fb9f3a"
             ],
             [
              0.8888888888888888,
              "#fdca26"
             ],
             [
              1,
              "#f0f921"
             ]
            ],
            "type": "heatmap"
           }
          ],
          "histogram": [
           {
            "marker": {
             "pattern": {
              "fillmode": "overlay",
              "size": 10,
              "solidity": 0.2
             }
            },
            "type": "histogram"
           }
          ],
          "histogram2d": [
           {
            "colorbar": {
             "outlinewidth": 0,
             "ticks": ""
            },
            "colorscale": [
             [
              0,
              "#0d0887"
             ],
             [
              0.1111111111111111,
              "#46039f"
             ],
             [
              0.2222222222222222,
              "#7201a8"
             ],
             [
              0.3333333333333333,
              "#9c179e"
             ],
             [
              0.4444444444444444,
              "#bd3786"
             ],
             [
              0.5555555555555556,
              "#d8576b"
             ],
             [
              0.6666666666666666,
              "#ed7953"
             ],
             [
              0.7777777777777778,
              "#fb9f3a"
             ],
             [
              0.8888888888888888,
              "#fdca26"
             ],
             [
              1,
              "#f0f921"
             ]
            ],
            "type": "histogram2d"
           }
          ],
          "histogram2dcontour": [
           {
            "colorbar": {
             "outlinewidth": 0,
             "ticks": ""
            },
            "colorscale": [
             [
              0,
              "#0d0887"
             ],
             [
              0.1111111111111111,
              "#46039f"
             ],
             [
              0.2222222222222222,
              "#7201a8"
             ],
             [
              0.3333333333333333,
              "#9c179e"
             ],
             [
              0.4444444444444444,
              "#bd3786"
             ],
             [
              0.5555555555555556,
              "#d8576b"
             ],
             [
              0.6666666666666666,
              "#ed7953"
             ],
             [
              0.7777777777777778,
              "#fb9f3a"
             ],
             [
              0.8888888888888888,
              "#fdca26"
             ],
             [
              1,
              "#f0f921"
             ]
            ],
            "type": "histogram2dcontour"
           }
          ],
          "mesh3d": [
           {
            "colorbar": {
             "outlinewidth": 0,
             "ticks": ""
            },
            "type": "mesh3d"
           }
          ],
          "parcoords": [
           {
            "line": {
             "colorbar": {
              "outlinewidth": 0,
              "ticks": ""
             }
            },
            "type": "parcoords"
           }
          ],
          "pie": [
           {
            "automargin": true,
            "type": "pie"
           }
          ],
          "scatter": [
           {
            "fillpattern": {
             "fillmode": "overlay",
             "size": 10,
             "solidity": 0.2
            },
            "type": "scatter"
           }
          ],
          "scatter3d": [
           {
            "line": {
             "colorbar": {
              "outlinewidth": 0,
              "ticks": ""
             }
            },
            "marker": {
             "colorbar": {
              "outlinewidth": 0,
              "ticks": ""
             }
            },
            "type": "scatter3d"
           }
          ],
          "scattercarpet": [
           {
            "marker": {
             "colorbar": {
              "outlinewidth": 0,
              "ticks": ""
             }
            },
            "type": "scattercarpet"
           }
          ],
          "scattergeo": [
           {
            "marker": {
             "colorbar": {
              "outlinewidth": 0,
              "ticks": ""
             }
            },
            "type": "scattergeo"
           }
          ],
          "scattergl": [
           {
            "marker": {
             "colorbar": {
              "outlinewidth": 0,
              "ticks": ""
             }
            },
            "type": "scattergl"
           }
          ],
          "scattermap": [
           {
            "marker": {
             "colorbar": {
              "outlinewidth": 0,
              "ticks": ""
             }
            },
            "type": "scattermap"
           }
          ],
          "scattermapbox": [
           {
            "marker": {
             "colorbar": {
              "outlinewidth": 0,
              "ticks": ""
             }
            },
            "type": "scattermapbox"
           }
          ],
          "scatterpolar": [
           {
            "marker": {
             "colorbar": {
              "outlinewidth": 0,
              "ticks": ""
             }
            },
            "type": "scatterpolar"
           }
          ],
          "scatterpolargl": [
           {
            "marker": {
             "colorbar": {
              "outlinewidth": 0,
              "ticks": ""
             }
            },
            "type": "scatterpolargl"
           }
          ],
          "scatterternary": [
           {
            "marker": {
             "colorbar": {
              "outlinewidth": 0,
              "ticks": ""
             }
            },
            "type": "scatterternary"
           }
          ],
          "surface": [
           {
            "colorbar": {
             "outlinewidth": 0,
             "ticks": ""
            },
            "colorscale": [
             [
              0,
              "#0d0887"
             ],
             [
              0.1111111111111111,
              "#46039f"
             ],
             [
              0.2222222222222222,
              "#7201a8"
             ],
             [
              0.3333333333333333,
              "#9c179e"
             ],
             [
              0.4444444444444444,
              "#bd3786"
             ],
             [
              0.5555555555555556,
              "#d8576b"
             ],
             [
              0.6666666666666666,
              "#ed7953"
             ],
             [
              0.7777777777777778,
              "#fb9f3a"
             ],
             [
              0.8888888888888888,
              "#fdca26"
             ],
             [
              1,
              "#f0f921"
             ]
            ],
            "type": "surface"
           }
          ],
          "table": [
           {
            "cells": {
             "fill": {
              "color": "#EBF0F8"
             },
             "line": {
              "color": "white"
             }
            },
            "header": {
             "fill": {
              "color": "#C8D4E3"
             },
             "line": {
              "color": "white"
             }
            },
            "type": "table"
           }
          ]
         },
         "layout": {
          "annotationdefaults": {
           "arrowcolor": "#2a3f5f",
           "arrowhead": 0,
           "arrowwidth": 1
          },
          "autotypenumbers": "strict",
          "coloraxis": {
           "colorbar": {
            "outlinewidth": 0,
            "ticks": ""
           }
          },
          "colorscale": {
           "diverging": [
            [
             0,
             "#8e0152"
            ],
            [
             0.1,
             "#c51b7d"
            ],
            [
             0.2,
             "#de77ae"
            ],
            [
             0.3,
             "#f1b6da"
            ],
            [
             0.4,
             "#fde0ef"
            ],
            [
             0.5,
             "#f7f7f7"
            ],
            [
             0.6,
             "#e6f5d0"
            ],
            [
             0.7,
             "#b8e186"
            ],
            [
             0.8,
             "#7fbc41"
            ],
            [
             0.9,
             "#4d9221"
            ],
            [
             1,
             "#276419"
            ]
           ],
           "sequential": [
            [
             0,
             "#0d0887"
            ],
            [
             0.1111111111111111,
             "#46039f"
            ],
            [
             0.2222222222222222,
             "#7201a8"
            ],
            [
             0.3333333333333333,
             "#9c179e"
            ],
            [
             0.4444444444444444,
             "#bd3786"
            ],
            [
             0.5555555555555556,
             "#d8576b"
            ],
            [
             0.6666666666666666,
             "#ed7953"
            ],
            [
             0.7777777777777778,
             "#fb9f3a"
            ],
            [
             0.8888888888888888,
             "#fdca26"
            ],
            [
             1,
             "#f0f921"
            ]
           ],
           "sequentialminus": [
            [
             0,
             "#0d0887"
            ],
            [
             0.1111111111111111,
             "#46039f"
            ],
            [
             0.2222222222222222,
             "#7201a8"
            ],
            [
             0.3333333333333333,
             "#9c179e"
            ],
            [
             0.4444444444444444,
             "#bd3786"
            ],
            [
             0.5555555555555556,
             "#d8576b"
            ],
            [
             0.6666666666666666,
             "#ed7953"
            ],
            [
             0.7777777777777778,
             "#fb9f3a"
            ],
            [
             0.8888888888888888,
             "#fdca26"
            ],
            [
             1,
             "#f0f921"
            ]
           ]
          },
          "colorway": [
           "#636efa",
           "#EF553B",
           "#00cc96",
           "#ab63fa",
           "#FFA15A",
           "#19d3f3",
           "#FF6692",
           "#B6E880",
           "#FF97FF",
           "#FECB52"
          ],
          "font": {
           "color": "#2a3f5f"
          },
          "geo": {
           "bgcolor": "white",
           "lakecolor": "white",
           "landcolor": "#E5ECF6",
           "showlakes": true,
           "showland": true,
           "subunitcolor": "white"
          },
          "hoverlabel": {
           "align": "left"
          },
          "hovermode": "closest",
          "mapbox": {
           "style": "light"
          },
          "paper_bgcolor": "white",
          "plot_bgcolor": "#E5ECF6",
          "polar": {
           "angularaxis": {
            "gridcolor": "white",
            "linecolor": "white",
            "ticks": ""
           },
           "bgcolor": "#E5ECF6",
           "radialaxis": {
            "gridcolor": "white",
            "linecolor": "white",
            "ticks": ""
           }
          },
          "scene": {
           "xaxis": {
            "backgroundcolor": "#E5ECF6",
            "gridcolor": "white",
            "gridwidth": 2,
            "linecolor": "white",
            "showbackground": true,
            "ticks": "",
            "zerolinecolor": "white"
           },
           "yaxis": {
            "backgroundcolor": "#E5ECF6",
            "gridcolor": "white",
            "gridwidth": 2,
            "linecolor": "white",
            "showbackground": true,
            "ticks": "",
            "zerolinecolor": "white"
           },
           "zaxis": {
            "backgroundcolor": "#E5ECF6",
            "gridcolor": "white",
            "gridwidth": 2,
            "linecolor": "white",
            "showbackground": true,
            "ticks": "",
            "zerolinecolor": "white"
           }
          },
          "shapedefaults": {
           "line": {
            "color": "#2a3f5f"
           }
          },
          "ternary": {
           "aaxis": {
            "gridcolor": "white",
            "linecolor": "white",
            "ticks": ""
           },
           "baxis": {
            "gridcolor": "white",
            "linecolor": "white",
            "ticks": ""
           },
           "bgcolor": "#E5ECF6",
           "caxis": {
            "gridcolor": "white",
            "linecolor": "white",
            "ticks": ""
           }
          },
          "title": {
           "x": 0.05
          },
          "xaxis": {
           "automargin": true,
           "gridcolor": "white",
           "linecolor": "white",
           "ticks": "",
           "title": {
            "standoff": 15
           },
           "zerolinecolor": "white",
           "zerolinewidth": 2
          },
          "yaxis": {
           "automargin": true,
           "gridcolor": "white",
           "linecolor": "white",
           "ticks": "",
           "title": {
            "standoff": 15
           },
           "zerolinecolor": "white",
           "zerolinewidth": 2
          }
         }
        },
        "title": {
         "text": "Resume Clusters (TSNE + KMeans)"
        },
        "xaxis": {
         "anchor": "y",
         "domain": [
          0,
          1
         ],
         "title": {
          "text": "x"
         }
        },
        "yaxis": {
         "anchor": "x",
         "domain": [
          0,
          1
         ],
         "title": {
          "text": "y"
         }
        }
       }
      }
     },
     "metadata": {},
     "output_type": "display_data"
    }
   ],
   "source": [
    "fig = px.scatter(df, x='x', y='y', color='cluster',\n",
    "                 hover_data=[st_col],\n",
    "                 title=\"Resume Clusters (TSNE + KMeans)\",\n",
    "                 color_continuous_scale='Viridis')\n",
    "fig.show()"
   ]
  },
  {
   "cell_type": "markdown",
   "id": "04f5b82b",
   "metadata": {},
   "source": [
    "## 7. Analyze Cluster Keywords"
   ]
  },
  {
   "cell_type": "code",
   "execution_count": 7,
   "id": "b68138bb",
   "metadata": {},
   "outputs": [
    {
     "name": "stdout",
     "output_type": "stream",
     "text": [
      "\n",
      "🔹 Cluster 0 Top Keywords:\n",
      "developer: 224\n",
      "java: 84\n",
      "python: 48\n",
      "etl: 40\n",
      "dotnet: 28\n",
      "sap: 24\n",
      "\n",
      "🔹 Cluster 1 Top Keywords:\n",
      "testing: 96\n",
      "automation: 26\n",
      "\n",
      "🔹 Cluster 2 Top Keywords:\n",
      "hr: 44\n",
      "\n",
      "🔹 Cluster 3 Top Keywords:\n",
      "engineer: 144\n",
      "devops: 55\n",
      "web: 45\n",
      "designing: 45\n",
      "data: 40\n",
      "science: 40\n",
      "mechanical: 40\n",
      "sales: 40\n",
      "operations: 40\n",
      "manager: 40\n",
      "\n",
      "🔹 Cluster 4 Top Keywords:\n",
      "hadoop: 42\n"
     ]
    }
   ],
   "source": [
    "from sklearn.feature_extraction.text import CountVectorizer\n",
    "\n",
    "def extract_top_keywords(texts, n=10):\n",
    "    cv = CountVectorizer(stop_words='english')\n",
    "    word_matrix = cv.fit_transform(texts)\n",
    "    sum_words = word_matrix.sum(axis=0)\n",
    "    words_freq = [(word, sum_words[0, idx]) for word, idx in cv.vocabulary_.items()]\n",
    "    words_freq = sorted(words_freq, key=lambda x: x[1], reverse=True)\n",
    "    return words_freq[:n]\n",
    "\n",
    "for i in range(k):\n",
    "    cluster_texts = df[df['cluster'] == i][st_col]\n",
    "    keywords = extract_top_keywords(cluster_texts)\n",
    "    print(f\"\\n🔹 Cluster {i} Top Keywords:\")\n",
    "    for word, freq in keywords:\n",
    "        print(f\"{word}: {freq}\")"
   ]
  },
  {
   "cell_type": "markdown",
   "id": "951dfdfa",
   "metadata": {},
   "source": [
    "## 8. Save Embeddings + Clusters"
   ]
  },
  {
   "cell_type": "code",
   "execution_count": 8,
   "id": "692bf4f4",
   "metadata": {},
   "outputs": [
    {
     "name": "stdout",
     "output_type": "stream",
     "text": [
      "Embedding file saved.\n"
     ]
    }
   ],
   "source": [
    "\n",
    "df[['x', 'y', 'cluster']].to_csv(\"../data/resume_embeddings.csv\", index=False)\n",
    "print(\"Embedding file saved.\")\n"
   ]
  }
 ],
 "metadata": {
  "kernelspec": {
   "display_name": "Python 3",
   "language": "python",
   "name": "python3"
  },
  "language_info": {
   "codemirror_mode": {
    "name": "ipython",
    "version": 3
   },
   "file_extension": ".py",
   "mimetype": "text/x-python",
   "name": "python",
   "nbconvert_exporter": "python",
   "pygments_lexer": "ipython3",
   "version": "3.13.0"
  }
 },
 "nbformat": 4,
 "nbformat_minor": 5
}
